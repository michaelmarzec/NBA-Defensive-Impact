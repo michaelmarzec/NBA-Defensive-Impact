{
 "cells": [
  {
   "cell_type": "code",
   "execution_count": 1,
   "id": "b6790605",
   "metadata": {},
   "outputs": [],
   "source": [
    "import pandas as pd"
   ]
  },
  {
   "cell_type": "code",
   "execution_count": 2,
   "id": "7239205d",
   "metadata": {},
   "outputs": [],
   "source": [
    "data = pd.read_parquet('eda_data.parquet')"
   ]
  },
  {
   "cell_type": "code",
   "execution_count": 3,
   "id": "ac0a5aa5",
   "metadata": {},
   "outputs": [],
   "source": [
    "by_player_off = data.reset_index()[['off_player_name', 'off_player_pos', 'off_height', 'off_weight']].drop_duplicates()\n",
    "by_player_def = data.reset_index()[['def_player_name', 'def_player_pos', 'def_height', 'def_weight']].drop_duplicates()\n",
    "by_player_off.columns = by_player_off.columns.str.split('_').to_series().apply(lambda x: '_'.join(x[1:]))\n",
    "by_player_def.columns = by_player_def.columns.str.split('_').to_series().apply(lambda x: '_'.join(x[1:]))\n",
    "\n",
    "\n",
    "by_player = pd.concat([by_player_off, by_player_def]).drop_duplicates()\n",
    "med_height_weight = by_player.groupby('player_pos').median()\n",
    "med_height_weight.columns = 'med_' + med_height_weight.columns\n",
    "\n",
    "med_height_weight_off = med_height_weight.copy()\n",
    "med_height_weight_off.columns = 'off_' + med_height_weight_off.columns \n",
    "\n",
    "med_height_weight_def = med_height_weight.copy()\n",
    "med_height_weight_def.columns = 'def_' + med_height_weight_def.columns "
   ]
  },
  {
   "cell_type": "code",
   "execution_count": 4,
   "id": "b0117a1d",
   "metadata": {},
   "outputs": [],
   "source": [
    "data = data.reset_index().merge(med_height_weight_off, left_on = 'off_player_pos', right_on='player_pos')\n",
    "data = data.merge(med_height_weight_def, left_on = 'def_player_pos', right_on='player_pos')\n",
    "\n"
   ]
  },
  {
   "cell_type": "code",
   "execution_count": 5,
   "id": "49f5cb6b",
   "metadata": {},
   "outputs": [],
   "source": [
    "data['tall_off'] = data.off_height >= data.off_med_height\n",
    "data['large_off'] = data.off_weight >= data.off_med_weight\n",
    "data['tall_def'] = data.def_height >= data.def_med_height\n",
    "data['large_def'] = data.def_weight >= data.def_med_weight\n",
    "\n",
    "\n"
   ]
  },
  {
   "cell_type": "code",
   "execution_count": 6,
   "id": "f879cd20",
   "metadata": {},
   "outputs": [
    {
     "data": {
      "text/plain": [
       "off_player_name\n",
       "Aaron Brooks       0.789419\n",
       "Aaron Gordon       1.618163\n",
       "Aaron Harrison     0.828753\n",
       "Aaron Holiday      1.389602\n",
       "Aaron Jackson      0.591014\n",
       "                     ...   \n",
       "Zeke Nnaji         1.084672\n",
       "Zhaire Smith       0.674991\n",
       "Zhou Qi            0.308748\n",
       "Zion Williamson    2.426317\n",
       "Zylan Cheatham     0.559441\n",
       "Name: matchup_player_pts, Length: 803, dtype: float64"
      ]
     },
     "execution_count": 6,
     "metadata": {},
     "output_type": "execute_result"
    }
   ],
   "source": [
    "data.groupby('off_player_name').matchup_player_pts.mean()"
   ]
  },
  {
   "cell_type": "code",
   "execution_count": 7,
   "id": "aad9fcae",
   "metadata": {},
   "outputs": [
    {
     "data": {
      "text/plain": [
       "0         0.789419\n",
       "1         1.389602\n",
       "2         1.083359\n",
       "3         1.579532\n",
       "4         1.061140\n",
       "            ...   \n",
       "160936    1.243199\n",
       "160937    0.964852\n",
       "160938    0.895889\n",
       "160939    1.108865\n",
       "160940    1.147547\n",
       "Name: avg_matchup_player_pts, Length: 160941, dtype: float64"
      ]
     },
     "execution_count": 7,
     "metadata": {},
     "output_type": "execute_result"
    }
   ],
   "source": [
    "data.avg_matchup_player_pts"
   ]
  },
  {
   "cell_type": "code",
   "execution_count": 8,
   "id": "7f6b2d47",
   "metadata": {},
   "outputs": [],
   "source": [
    "data['player_pts_off_pct_inc'] = 100 * (data.matchup_player_pts - data.avg_matchup_player_pts) / data.avg_matchup_player_pts\n",
    "data['team_pts_off_pct_inc'] = 100 * (data.matchup_team_pts - data.avg_matchup_team_pts) / data.avg_matchup_team_pts\n",
    "\n"
   ]
  },
  {
   "cell_type": "code",
   "execution_count": 9,
   "id": "d68c77da",
   "metadata": {},
   "outputs": [
    {
     "data": {
      "text/html": [
       "<div>\n",
       "<style scoped>\n",
       "    .dataframe tbody tr th:only-of-type {\n",
       "        vertical-align: middle;\n",
       "    }\n",
       "\n",
       "    .dataframe tbody tr th {\n",
       "        vertical-align: top;\n",
       "    }\n",
       "\n",
       "    .dataframe thead th {\n",
       "        text-align: right;\n",
       "    }\n",
       "</style>\n",
       "<table border=\"1\" class=\"dataframe\">\n",
       "  <thead>\n",
       "    <tr style=\"text-align: right;\">\n",
       "      <th></th>\n",
       "      <th>off_player_pos</th>\n",
       "      <th>def_player_pos</th>\n",
       "      <th>avg_pct_increase_player_points_per_min</th>\n",
       "      <th>n_matchups</th>\n",
       "    </tr>\n",
       "  </thead>\n",
       "  <tbody>\n",
       "    <tr>\n",
       "      <th>12</th>\n",
       "      <td>PG</td>\n",
       "      <td>PG</td>\n",
       "      <td>-29.788373</td>\n",
       "      <td>10933</td>\n",
       "    </tr>\n",
       "    <tr>\n",
       "      <th>24</th>\n",
       "      <td>SG</td>\n",
       "      <td>SG</td>\n",
       "      <td>-23.852743</td>\n",
       "      <td>11172</td>\n",
       "    </tr>\n",
       "    <tr>\n",
       "      <th>0</th>\n",
       "      <td>C</td>\n",
       "      <td>C</td>\n",
       "      <td>-20.816426</td>\n",
       "      <td>10841</td>\n",
       "    </tr>\n",
       "    <tr>\n",
       "      <th>6</th>\n",
       "      <td>PF</td>\n",
       "      <td>PF</td>\n",
       "      <td>-19.975052</td>\n",
       "      <td>7707</td>\n",
       "    </tr>\n",
       "    <tr>\n",
       "      <th>18</th>\n",
       "      <td>SF</td>\n",
       "      <td>SF</td>\n",
       "      <td>-19.862970</td>\n",
       "      <td>7718</td>\n",
       "    </tr>\n",
       "  </tbody>\n",
       "</table>\n",
       "</div>"
      ],
      "text/plain": [
       "   off_player_pos def_player_pos  avg_pct_increase_player_points_per_min  \\\n",
       "12             PG             PG                              -29.788373   \n",
       "24             SG             SG                              -23.852743   \n",
       "0               C              C                              -20.816426   \n",
       "6              PF             PF                              -19.975052   \n",
       "18             SF             SF                              -19.862970   \n",
       "\n",
       "    n_matchups  \n",
       "12       10933  \n",
       "24       11172  \n",
       "0        10841  \n",
       "6         7707  \n",
       "18        7718  "
      ]
     },
     "execution_count": 9,
     "metadata": {},
     "output_type": "execute_result"
    }
   ],
   "source": [
    "player_ppm = data.groupby(['off_player_pos', 'def_player_pos']).player_pts_off_pct_inc\\\n",
    ".agg(['mean', 'count']).rename(columns={'mean': 'avg_pct_increase_player_points_per_min', 'count': 'n_matchups'})\\\n",
    ".reset_index()\\\n",
    ".sort_values('avg_pct_increase_player_points_per_min')\n",
    "player_ppm.to_csv('eda_player_ppm.csv', index=False)\n",
    "player_ppm.head()"
   ]
  },
  {
   "cell_type": "code",
   "execution_count": 10,
   "id": "c691c235",
   "metadata": {},
   "outputs": [
    {
     "data": {
      "text/html": [
       "<div>\n",
       "<style scoped>\n",
       "    .dataframe tbody tr th:only-of-type {\n",
       "        vertical-align: middle;\n",
       "    }\n",
       "\n",
       "    .dataframe tbody tr th {\n",
       "        vertical-align: top;\n",
       "    }\n",
       "\n",
       "    .dataframe thead th {\n",
       "        text-align: right;\n",
       "    }\n",
       "</style>\n",
       "<table border=\"1\" class=\"dataframe\">\n",
       "  <thead>\n",
       "    <tr style=\"text-align: right;\">\n",
       "      <th></th>\n",
       "      <th>off_player_pos</th>\n",
       "      <th>def_player_pos</th>\n",
       "      <th>tall_off</th>\n",
       "      <th>tall_def</th>\n",
       "      <th>avg_pct_increase_player_points_per_min</th>\n",
       "      <th>n_matchups</th>\n",
       "    </tr>\n",
       "  </thead>\n",
       "  <tbody>\n",
       "    <tr>\n",
       "      <th>48</th>\n",
       "      <td>PG</td>\n",
       "      <td>PG</td>\n",
       "      <td>False</td>\n",
       "      <td>False</td>\n",
       "      <td>-32.021252</td>\n",
       "      <td>1878</td>\n",
       "    </tr>\n",
       "    <tr>\n",
       "      <th>50</th>\n",
       "      <td>PG</td>\n",
       "      <td>PG</td>\n",
       "      <td>True</td>\n",
       "      <td>False</td>\n",
       "      <td>-30.844371</td>\n",
       "      <td>2677</td>\n",
       "    </tr>\n",
       "    <tr>\n",
       "      <th>49</th>\n",
       "      <td>PG</td>\n",
       "      <td>PG</td>\n",
       "      <td>False</td>\n",
       "      <td>True</td>\n",
       "      <td>-30.398770</td>\n",
       "      <td>2628</td>\n",
       "    </tr>\n",
       "    <tr>\n",
       "      <th>51</th>\n",
       "      <td>PG</td>\n",
       "      <td>PG</td>\n",
       "      <td>True</td>\n",
       "      <td>True</td>\n",
       "      <td>-27.488537</td>\n",
       "      <td>3750</td>\n",
       "    </tr>\n",
       "    <tr>\n",
       "      <th>96</th>\n",
       "      <td>SG</td>\n",
       "      <td>SG</td>\n",
       "      <td>False</td>\n",
       "      <td>False</td>\n",
       "      <td>-27.153536</td>\n",
       "      <td>2391</td>\n",
       "    </tr>\n",
       "  </tbody>\n",
       "</table>\n",
       "</div>"
      ],
      "text/plain": [
       "   off_player_pos def_player_pos  tall_off  tall_def  \\\n",
       "48             PG             PG     False     False   \n",
       "50             PG             PG      True     False   \n",
       "49             PG             PG     False      True   \n",
       "51             PG             PG      True      True   \n",
       "96             SG             SG     False     False   \n",
       "\n",
       "    avg_pct_increase_player_points_per_min  n_matchups  \n",
       "48                              -32.021252        1878  \n",
       "50                              -30.844371        2677  \n",
       "49                              -30.398770        2628  \n",
       "51                              -27.488537        3750  \n",
       "96                              -27.153536        2391  "
      ]
     },
     "execution_count": 10,
     "metadata": {},
     "output_type": "execute_result"
    }
   ],
   "source": [
    "player_ppm_height = data.groupby(['off_player_pos', 'def_player_pos', 'tall_off', 'tall_def']).player_pts_off_pct_inc\\\n",
    ".agg(['mean', 'count']).rename(columns={'mean': 'avg_pct_increase_player_points_per_min', 'count': 'n_matchups'})\\\n",
    ".reset_index()\\\n",
    ".sort_values('avg_pct_increase_player_points_per_min')\n",
    "player_ppm_height.to_csv('eda_player_ppm_height.csv', index=False)\n",
    "player_ppm_height.head()"
   ]
  },
  {
   "cell_type": "code",
   "execution_count": 11,
   "id": "fbbdb825",
   "metadata": {},
   "outputs": [
    {
     "data": {
      "text/html": [
       "<div>\n",
       "<style scoped>\n",
       "    .dataframe tbody tr th:only-of-type {\n",
       "        vertical-align: middle;\n",
       "    }\n",
       "\n",
       "    .dataframe tbody tr th {\n",
       "        vertical-align: top;\n",
       "    }\n",
       "\n",
       "    .dataframe thead th {\n",
       "        text-align: right;\n",
       "    }\n",
       "</style>\n",
       "<table border=\"1\" class=\"dataframe\">\n",
       "  <thead>\n",
       "    <tr style=\"text-align: right;\">\n",
       "      <th></th>\n",
       "      <th>off_player_pos</th>\n",
       "      <th>def_player_pos</th>\n",
       "      <th>avg_pct_increase_team_points_per_min</th>\n",
       "      <th>n_matchups</th>\n",
       "    </tr>\n",
       "  </thead>\n",
       "  <tbody>\n",
       "    <tr>\n",
       "      <th>0</th>\n",
       "      <td>C</td>\n",
       "      <td>C</td>\n",
       "      <td>-50.773921</td>\n",
       "      <td>10841</td>\n",
       "    </tr>\n",
       "    <tr>\n",
       "      <th>12</th>\n",
       "      <td>PG</td>\n",
       "      <td>PG</td>\n",
       "      <td>-38.877442</td>\n",
       "      <td>10933</td>\n",
       "    </tr>\n",
       "    <tr>\n",
       "      <th>6</th>\n",
       "      <td>PF</td>\n",
       "      <td>PF</td>\n",
       "      <td>-36.272055</td>\n",
       "      <td>7707</td>\n",
       "    </tr>\n",
       "    <tr>\n",
       "      <th>24</th>\n",
       "      <td>SG</td>\n",
       "      <td>SG</td>\n",
       "      <td>-26.884697</td>\n",
       "      <td>11172</td>\n",
       "    </tr>\n",
       "    <tr>\n",
       "      <th>18</th>\n",
       "      <td>SF</td>\n",
       "      <td>SF</td>\n",
       "      <td>-23.353210</td>\n",
       "      <td>7718</td>\n",
       "    </tr>\n",
       "  </tbody>\n",
       "</table>\n",
       "</div>"
      ],
      "text/plain": [
       "   off_player_pos def_player_pos  avg_pct_increase_team_points_per_min  \\\n",
       "0               C              C                            -50.773921   \n",
       "12             PG             PG                            -38.877442   \n",
       "6              PF             PF                            -36.272055   \n",
       "24             SG             SG                            -26.884697   \n",
       "18             SF             SF                            -23.353210   \n",
       "\n",
       "    n_matchups  \n",
       "0        10841  \n",
       "12       10933  \n",
       "6         7707  \n",
       "24       11172  \n",
       "18        7718  "
      ]
     },
     "execution_count": 11,
     "metadata": {},
     "output_type": "execute_result"
    }
   ],
   "source": [
    "team_ppm = data.groupby(['off_player_pos', 'def_player_pos']).team_pts_off_pct_inc\\\n",
    ".agg(['mean', 'count']).rename(columns={'mean': 'avg_pct_increase_team_points_per_min', 'count': 'n_matchups'})\\\n",
    ".reset_index()\\\n",
    ".sort_values('avg_pct_increase_team_points_per_min')\n",
    "team_ppm.to_csv('eda_team_ppm.csv', index=False)\n",
    "team_ppm.head()"
   ]
  },
  {
   "cell_type": "code",
   "execution_count": 12,
   "id": "711e43da",
   "metadata": {},
   "outputs": [
    {
     "data": {
      "text/html": [
       "<div>\n",
       "<style scoped>\n",
       "    .dataframe tbody tr th:only-of-type {\n",
       "        vertical-align: middle;\n",
       "    }\n",
       "\n",
       "    .dataframe tbody tr th {\n",
       "        vertical-align: top;\n",
       "    }\n",
       "\n",
       "    .dataframe thead th {\n",
       "        text-align: right;\n",
       "    }\n",
       "</style>\n",
       "<table border=\"1\" class=\"dataframe\">\n",
       "  <thead>\n",
       "    <tr style=\"text-align: right;\">\n",
       "      <th></th>\n",
       "      <th>off_player_pos</th>\n",
       "      <th>def_player_pos</th>\n",
       "      <th>tall_off</th>\n",
       "      <th>tall_def</th>\n",
       "      <th>avg_pct_increase_team_points_per_min</th>\n",
       "      <th>n_matchups</th>\n",
       "    </tr>\n",
       "  </thead>\n",
       "  <tbody>\n",
       "    <tr>\n",
       "      <th>2</th>\n",
       "      <td>C</td>\n",
       "      <td>C</td>\n",
       "      <td>True</td>\n",
       "      <td>False</td>\n",
       "      <td>-51.934084</td>\n",
       "      <td>2547</td>\n",
       "    </tr>\n",
       "    <tr>\n",
       "      <th>0</th>\n",
       "      <td>C</td>\n",
       "      <td>C</td>\n",
       "      <td>False</td>\n",
       "      <td>False</td>\n",
       "      <td>-51.414181</td>\n",
       "      <td>2141</td>\n",
       "    </tr>\n",
       "    <tr>\n",
       "      <th>1</th>\n",
       "      <td>C</td>\n",
       "      <td>C</td>\n",
       "      <td>False</td>\n",
       "      <td>True</td>\n",
       "      <td>-50.935549</td>\n",
       "      <td>2785</td>\n",
       "    </tr>\n",
       "    <tr>\n",
       "      <th>3</th>\n",
       "      <td>C</td>\n",
       "      <td>C</td>\n",
       "      <td>True</td>\n",
       "      <td>True</td>\n",
       "      <td>-49.355908</td>\n",
       "      <td>3368</td>\n",
       "    </tr>\n",
       "    <tr>\n",
       "      <th>48</th>\n",
       "      <td>PG</td>\n",
       "      <td>PG</td>\n",
       "      <td>False</td>\n",
       "      <td>False</td>\n",
       "      <td>-47.288360</td>\n",
       "      <td>1878</td>\n",
       "    </tr>\n",
       "  </tbody>\n",
       "</table>\n",
       "</div>"
      ],
      "text/plain": [
       "   off_player_pos def_player_pos  tall_off  tall_def  \\\n",
       "2               C              C      True     False   \n",
       "0               C              C     False     False   \n",
       "1               C              C     False      True   \n",
       "3               C              C      True      True   \n",
       "48             PG             PG     False     False   \n",
       "\n",
       "    avg_pct_increase_team_points_per_min  n_matchups  \n",
       "2                             -51.934084        2547  \n",
       "0                             -51.414181        2141  \n",
       "1                             -50.935549        2785  \n",
       "3                             -49.355908        3368  \n",
       "48                            -47.288360        1878  "
      ]
     },
     "execution_count": 12,
     "metadata": {},
     "output_type": "execute_result"
    }
   ],
   "source": [
    "team_ppm_height = data.groupby(['off_player_pos', 'def_player_pos', 'tall_off', 'tall_def']).team_pts_off_pct_inc\\\n",
    ".agg(['mean', 'count']).rename(columns={'mean': 'avg_pct_increase_team_points_per_min', 'count': 'n_matchups'})\\\n",
    ".reset_index()\\\n",
    ".sort_values('avg_pct_increase_team_points_per_min')\n",
    "team_ppm_height.to_csv('eda_team_ppm_height.csv', index=False)\n",
    "team_ppm_height.head()"
   ]
  },
  {
   "cell_type": "code",
   "execution_count": 13,
   "id": "dbf1ca85",
   "metadata": {},
   "outputs": [],
   "source": [
    "player_ppm = player_ppm.set_index(['def_player_pos', 'off_player_pos'])\n",
    "team_ppm = team_ppm.set_index(['def_player_pos', 'off_player_pos'])"
   ]
  },
  {
   "cell_type": "code",
   "execution_count": 14,
   "id": "df8433ca",
   "metadata": {},
   "outputs": [],
   "source": [
    "offs = ['PG', 'SG', 'SF', 'PF', 'C']\n",
    "deffs = ['PG', 'SG', 'SF', 'PF', 'C']\n",
    "import itertools\n",
    "matchups = list(itertools.product(offs, deffs))\n",
    "\n"
   ]
  },
  {
   "cell_type": "code",
   "execution_count": 15,
   "id": "d2495ad7",
   "metadata": {},
   "outputs": [
    {
     "data": {
      "text/plain": [
       "[('PG', 'PG'),\n",
       " ('PG', 'SG'),\n",
       " ('PG', 'SF'),\n",
       " ('PG', 'PF'),\n",
       " ('PG', 'C'),\n",
       " ('SG', 'PG'),\n",
       " ('SG', 'SG'),\n",
       " ('SG', 'SF'),\n",
       " ('SG', 'PF'),\n",
       " ('SG', 'C'),\n",
       " ('SF', 'PG'),\n",
       " ('SF', 'SG'),\n",
       " ('SF', 'SF'),\n",
       " ('SF', 'PF'),\n",
       " ('SF', 'C'),\n",
       " ('PF', 'PG'),\n",
       " ('PF', 'SG'),\n",
       " ('PF', 'SF'),\n",
       " ('PF', 'PF'),\n",
       " ('PF', 'C'),\n",
       " ('C', 'PG'),\n",
       " ('C', 'SG'),\n",
       " ('C', 'SF'),\n",
       " ('C', 'PF'),\n",
       " ('C', 'C')]"
      ]
     },
     "execution_count": 15,
     "metadata": {},
     "output_type": "execute_result"
    }
   ],
   "source": [
    "matchups"
   ]
  },
  {
   "cell_type": "code",
   "execution_count": 16,
   "id": "6a669465",
   "metadata": {},
   "outputs": [],
   "source": [
    "combos = list(itertools.combinations(matchups, 5))"
   ]
  },
  {
   "cell_type": "code",
   "execution_count": 17,
   "id": "d25532b4",
   "metadata": {},
   "outputs": [],
   "source": [
    "def is_unique(my_list):\n",
    "    return len(set(my_list)) == len(my_list)\n",
    "\n",
    "combos_valid = list(filter(lambda x: is_unique(list(zip(*x))[0]) and is_unique(list(zip(*x))[1]), combos))"
   ]
  },
  {
   "cell_type": "code",
   "execution_count": 18,
   "id": "fead03c3",
   "metadata": {},
   "outputs": [],
   "source": [
    "ppgs = pd.Series({v_combo: player_ppm.loc[list(v_combo)].avg_pct_increase_player_points_per_min.mean() for v_combo in combos_valid})"
   ]
  },
  {
   "cell_type": "code",
   "execution_count": 19,
   "id": "c37c3ab1",
   "metadata": {},
   "outputs": [
    {
     "data": {
      "text/plain": [
       "(PG, PG)  (SG, SG)  (SF, SF)  (PF, PF)  (C, C)    -22.859113\n",
       "          (SG, SF)  (SF, SG)  (PF, PF)  (C, C)    -20.621511\n",
       "(PG, SG)  (SG, PG)  (SF, SF)  (PF, PF)  (C, C)    -19.163720\n",
       "(PG, PG)  (SG, SG)  (SF, PF)  (PF, SF)  (C, C)    -17.058390\n",
       "(PG, SG)  (SG, SF)  (SF, PG)  (PF, PF)  (C, C)    -16.300319\n",
       "                                                     ...    \n",
       "(PG, SF)  (SG, C)   (SF, PF)  (PF, PG)  (C, SG)    33.273682\n",
       "(PG, PF)  (SG, SF)  (SF, C)   (PF, PG)  (C, SG)    33.637074\n",
       "(PG, C)   (SG, PF)  (SF, SF)  (PF, PG)  (C, SG)    33.651049\n",
       "(PG, SF)  (SG, PF)  (SF, C)   (PF, PG)  (C, SG)    34.564305\n",
       "(PG, PF)  (SG, C)   (SF, SF)  (PF, PG)  (C, SG)    35.718387\n",
       "Length: 120, dtype: float64"
      ]
     },
     "execution_count": 19,
     "metadata": {},
     "output_type": "execute_result"
    }
   ],
   "source": [
    "# What are best ways to matchup for a defense?\n",
    "# Not unexpected thats its pg-pg, sg-sg, sf-sf, pf-pf, c-c\n",
    "ppgs.sort_values()"
   ]
  },
  {
   "cell_type": "code",
   "execution_count": null,
   "id": "09794b7a",
   "metadata": {},
   "outputs": [],
   "source": []
  }
 ],
 "metadata": {
  "kernelspec": {
   "display_name": "Python 3",
   "language": "python",
   "name": "python3"
  },
  "language_info": {
   "codemirror_mode": {
    "name": "ipython",
    "version": 3
   },
   "file_extension": ".py",
   "mimetype": "text/x-python",
   "name": "python",
   "nbconvert_exporter": "python",
   "pygments_lexer": "ipython3",
   "version": "3.8.8"
  }
 },
 "nbformat": 4,
 "nbformat_minor": 5
}
